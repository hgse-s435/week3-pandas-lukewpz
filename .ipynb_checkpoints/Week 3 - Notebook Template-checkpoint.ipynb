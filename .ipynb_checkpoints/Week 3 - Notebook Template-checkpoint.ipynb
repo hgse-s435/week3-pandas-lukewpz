{
 "cells": [
  {
   "cell_type": "markdown",
   "metadata": {},
   "source": [
    "# Logistics"
   ]
  },
  {
   "cell_type": "markdown",
   "metadata": {},
   "source": [
    "* If you feel lost while working on this notebook (in class or outside or class), don't hesitate to post questions here: https://piazza.com/class/jrzeap5kpirw"
   ]
  },
  {
   "cell_type": "markdown",
   "metadata": {
    "ExecuteTime": {
     "end_time": "2019-02-11T14:46:03.631443Z",
     "start_time": "2019-02-11T14:46:03.134999Z"
    }
   },
   "source": [
    "# Description of the dataset"
   ]
  },
  {
   "cell_type": "markdown",
   "metadata": {},
   "source": [
    "The file \"Bertrand-physiodata.csv\" was captured using the Empatica E4 wristband when Bertrand was teaching a class last Fall. The E4 collects information about a person's heart rate, electrodermal actibity, movements and temperature:\n",
    "\n",
    "![title](https://support.empatica.com/hc/article_attachments/360000797783/e4_specs.jpg)"
   ]
  },
  {
   "cell_type": "markdown",
   "metadata": {},
   "source": [
    "the csv file contains the following columns:\n",
    "* **tags**: users can tag events by pressing a button on the wristband\n",
    "* **real time**: time of the data collection\n",
    "* **unix time**: number of seconds since 00:00:00 Thursday, 1 January 1970\n",
    "* **BVP**: Blood volume pressure (used to compute HR data)\n",
    "* **HR**: Heart rate data\n",
    "* **EDA**: Electrodermal activity (i.e., physiological arousal)\n",
    "* **TEMP**: temperature of the skin\n",
    "* **ACC_x**: accelerometer data on the x axis\n",
    "* **ACC_y**: accelerometer data on the y axis\n",
    "* **ACC_z**: accelerometer data on the z axis"
   ]
  },
  {
   "cell_type": "markdown",
   "metadata": {},
   "source": [
    "Today we are going to explore Bertrand's physiological response to teaching! :) more specifically, we are going to explore the relationship between heart rate and electrodermal activity. "
   ]
  },
  {
   "cell_type": "markdown",
   "metadata": {},
   "source": [
    "# Panda Review"
   ]
  },
  {
   "cell_type": "markdown",
   "metadata": {},
   "source": [
    "Concepts: \n",
    "* head, tail, info, values\n",
    "* zip, dict, pd.DataFrame\n",
    "* df.columns\n",
    "* read_csv, delimiter, header, index\n",
    "\n"
   ]
  },
  {
   "cell_type": "code",
   "execution_count": 194,
   "metadata": {},
   "outputs": [],
   "source": [
    "# 1) import the pandas library as pd\n",
    "import pandas as pd"
   ]
  },
  {
   "cell_type": "code",
   "execution_count": 195,
   "metadata": {},
   "outputs": [],
   "source": [
    "# 2) import the csv file into a variable called df\n",
    "df=pd.read_csv('./Bertrand-physiodata.csv')"
   ]
  },
  {
   "cell_type": "code",
   "execution_count": 196,
   "metadata": {},
   "outputs": [
    {
     "name": "stdout",
     "output_type": "stream",
     "text": [
      "hello\n"
     ]
    }
   ],
   "source": [
    "# 3) print the column names, just to make \n",
    "# sure that it matches what we have above\n",
    "df.columns\n",
    "print('hello')"
   ]
  },
  {
   "cell_type": "code",
   "execution_count": 197,
   "metadata": {
    "scrolled": true
   },
   "outputs": [
    {
     "data": {
      "text/html": [
       "<div>\n",
       "<style scoped>\n",
       "    .dataframe tbody tr th:only-of-type {\n",
       "        vertical-align: middle;\n",
       "    }\n",
       "\n",
       "    .dataframe tbody tr th {\n",
       "        vertical-align: top;\n",
       "    }\n",
       "\n",
       "    .dataframe thead th {\n",
       "        text-align: right;\n",
       "    }\n",
       "</style>\n",
       "<table border=\"1\" class=\"dataframe\">\n",
       "  <thead>\n",
       "    <tr style=\"text-align: right;\">\n",
       "      <th></th>\n",
       "      <th>tags</th>\n",
       "      <th>real time</th>\n",
       "      <th>unix time</th>\n",
       "      <th>BVP</th>\n",
       "      <th>HR</th>\n",
       "      <th>EDA</th>\n",
       "      <th>TEMP</th>\n",
       "      <th>ACC_x</th>\n",
       "      <th>ACC_y</th>\n",
       "      <th>ACC_z</th>\n",
       "    </tr>\n",
       "  </thead>\n",
       "  <tbody>\n",
       "    <tr>\n",
       "      <th>0</th>\n",
       "      <td>0.0</td>\n",
       "      <td>9/11/18 08:28</td>\n",
       "      <td>1.536669e+09</td>\n",
       "      <td>0.0</td>\n",
       "      <td>NaN</td>\n",
       "      <td>0.0</td>\n",
       "      <td>33.31</td>\n",
       "      <td>-50.0</td>\n",
       "      <td>7.0</td>\n",
       "      <td>28.0</td>\n",
       "    </tr>\n",
       "    <tr>\n",
       "      <th>1</th>\n",
       "      <td>0.0</td>\n",
       "      <td>9/11/18 08:28</td>\n",
       "      <td>1.536669e+09</td>\n",
       "      <td>0.0</td>\n",
       "      <td>NaN</td>\n",
       "      <td>NaN</td>\n",
       "      <td>NaN</td>\n",
       "      <td>NaN</td>\n",
       "      <td>NaN</td>\n",
       "      <td>NaN</td>\n",
       "    </tr>\n",
       "    <tr>\n",
       "      <th>2</th>\n",
       "      <td>0.0</td>\n",
       "      <td>9/11/18 08:28</td>\n",
       "      <td>1.536669e+09</td>\n",
       "      <td>0.0</td>\n",
       "      <td>NaN</td>\n",
       "      <td>NaN</td>\n",
       "      <td>NaN</td>\n",
       "      <td>-41.0</td>\n",
       "      <td>6.0</td>\n",
       "      <td>28.0</td>\n",
       "    </tr>\n",
       "    <tr>\n",
       "      <th>3</th>\n",
       "      <td>0.0</td>\n",
       "      <td>9/11/18 08:28</td>\n",
       "      <td>1.536669e+09</td>\n",
       "      <td>0.0</td>\n",
       "      <td>NaN</td>\n",
       "      <td>NaN</td>\n",
       "      <td>NaN</td>\n",
       "      <td>NaN</td>\n",
       "      <td>NaN</td>\n",
       "      <td>NaN</td>\n",
       "    </tr>\n",
       "    <tr>\n",
       "      <th>4</th>\n",
       "      <td>0.0</td>\n",
       "      <td>9/11/18 08:28</td>\n",
       "      <td>1.536669e+09</td>\n",
       "      <td>0.0</td>\n",
       "      <td>NaN</td>\n",
       "      <td>NaN</td>\n",
       "      <td>NaN</td>\n",
       "      <td>-40.0</td>\n",
       "      <td>7.0</td>\n",
       "      <td>25.0</td>\n",
       "    </tr>\n",
       "  </tbody>\n",
       "</table>\n",
       "</div>"
      ],
      "text/plain": [
       "   tags      real time     unix time  BVP  HR  EDA   TEMP  ACC_x  ACC_y  ACC_z\n",
       "0   0.0  9/11/18 08:28  1.536669e+09  0.0 NaN  0.0  33.31  -50.0    7.0   28.0\n",
       "1   0.0  9/11/18 08:28  1.536669e+09  0.0 NaN  NaN    NaN    NaN    NaN    NaN\n",
       "2   0.0  9/11/18 08:28  1.536669e+09  0.0 NaN  NaN    NaN  -41.0    6.0   28.0\n",
       "3   0.0  9/11/18 08:28  1.536669e+09  0.0 NaN  NaN    NaN    NaN    NaN    NaN\n",
       "4   0.0  9/11/18 08:28  1.536669e+09  0.0 NaN  NaN    NaN  -40.0    7.0   25.0"
      ]
     },
     "execution_count": 197,
     "metadata": {},
     "output_type": "execute_result"
    }
   ],
   "source": [
    "# 4) use the head() function to check your data\n",
    "df.head()"
   ]
  },
  {
   "cell_type": "code",
   "execution_count": 198,
   "metadata": {},
   "outputs": [
    {
     "data": {
      "text/html": [
       "<div>\n",
       "<style scoped>\n",
       "    .dataframe tbody tr th:only-of-type {\n",
       "        vertical-align: middle;\n",
       "    }\n",
       "\n",
       "    .dataframe tbody tr th {\n",
       "        vertical-align: top;\n",
       "    }\n",
       "\n",
       "    .dataframe thead th {\n",
       "        text-align: right;\n",
       "    }\n",
       "</style>\n",
       "<table border=\"1\" class=\"dataframe\">\n",
       "  <thead>\n",
       "    <tr style=\"text-align: right;\">\n",
       "      <th></th>\n",
       "      <th>tags</th>\n",
       "      <th>real time</th>\n",
       "      <th>unix time</th>\n",
       "      <th>BVP</th>\n",
       "      <th>HR</th>\n",
       "      <th>EDA</th>\n",
       "      <th>TEMP</th>\n",
       "      <th>ACC_x</th>\n",
       "      <th>ACC_y</th>\n",
       "      <th>ACC_z</th>\n",
       "    </tr>\n",
       "  </thead>\n",
       "  <tbody>\n",
       "    <tr>\n",
       "      <th>333871</th>\n",
       "      <td>2.0</td>\n",
       "      <td>9/11/18 09:55</td>\n",
       "      <td>1.536674e+09</td>\n",
       "      <td>-2.74</td>\n",
       "      <td>NaN</td>\n",
       "      <td>NaN</td>\n",
       "      <td>NaN</td>\n",
       "      <td>NaN</td>\n",
       "      <td>NaN</td>\n",
       "      <td>NaN</td>\n",
       "    </tr>\n",
       "    <tr>\n",
       "      <th>333872</th>\n",
       "      <td>2.0</td>\n",
       "      <td>9/11/18 09:55</td>\n",
       "      <td>1.536674e+09</td>\n",
       "      <td>-2.11</td>\n",
       "      <td>NaN</td>\n",
       "      <td>NaN</td>\n",
       "      <td>NaN</td>\n",
       "      <td>-43.0</td>\n",
       "      <td>15.0</td>\n",
       "      <td>44.0</td>\n",
       "    </tr>\n",
       "    <tr>\n",
       "      <th>333873</th>\n",
       "      <td>2.0</td>\n",
       "      <td>9/11/18 09:55</td>\n",
       "      <td>1.536674e+09</td>\n",
       "      <td>-1.64</td>\n",
       "      <td>NaN</td>\n",
       "      <td>NaN</td>\n",
       "      <td>NaN</td>\n",
       "      <td>NaN</td>\n",
       "      <td>NaN</td>\n",
       "      <td>NaN</td>\n",
       "    </tr>\n",
       "    <tr>\n",
       "      <th>333874</th>\n",
       "      <td>2.0</td>\n",
       "      <td>9/11/18 09:55</td>\n",
       "      <td>1.536674e+09</td>\n",
       "      <td>-1.48</td>\n",
       "      <td>NaN</td>\n",
       "      <td>NaN</td>\n",
       "      <td>NaN</td>\n",
       "      <td>-42.0</td>\n",
       "      <td>15.0</td>\n",
       "      <td>44.0</td>\n",
       "    </tr>\n",
       "    <tr>\n",
       "      <th>333875</th>\n",
       "      <td>NaN</td>\n",
       "      <td>NaN</td>\n",
       "      <td>NaN</td>\n",
       "      <td>-1.66</td>\n",
       "      <td>NaN</td>\n",
       "      <td>NaN</td>\n",
       "      <td>NaN</td>\n",
       "      <td>NaN</td>\n",
       "      <td>NaN</td>\n",
       "      <td>NaN</td>\n",
       "    </tr>\n",
       "  </tbody>\n",
       "</table>\n",
       "</div>"
      ],
      "text/plain": [
       "        tags      real time     unix time   BVP  HR  EDA  TEMP  ACC_x  ACC_y  \\\n",
       "333871   2.0  9/11/18 09:55  1.536674e+09 -2.74 NaN  NaN   NaN    NaN    NaN   \n",
       "333872   2.0  9/11/18 09:55  1.536674e+09 -2.11 NaN  NaN   NaN  -43.0   15.0   \n",
       "333873   2.0  9/11/18 09:55  1.536674e+09 -1.64 NaN  NaN   NaN    NaN    NaN   \n",
       "333874   2.0  9/11/18 09:55  1.536674e+09 -1.48 NaN  NaN   NaN  -42.0   15.0   \n",
       "333875   NaN            NaN           NaN -1.66 NaN  NaN   NaN    NaN    NaN   \n",
       "\n",
       "        ACC_z  \n",
       "333871    NaN  \n",
       "333872   44.0  \n",
       "333873    NaN  \n",
       "333874   44.0  \n",
       "333875    NaN  "
      ]
     },
     "execution_count": 198,
     "metadata": {},
     "output_type": "execute_result"
    }
   ],
   "source": [
    "# 5) use the tail() function on your dataframe. How many rows do you have?\n",
    "df.tail()"
   ]
  },
  {
   "cell_type": "code",
   "execution_count": 199,
   "metadata": {},
   "outputs": [
    {
     "name": "stdout",
     "output_type": "stream",
     "text": [
      "<class 'pandas.core.frame.DataFrame'>\n",
      "RangeIndex: 333876 entries, 0 to 333875\n",
      "Data columns (total 10 columns):\n",
      "tags         333875 non-null float64\n",
      "real time    333575 non-null object\n",
      "unix time    333875 non-null float64\n",
      "BVP          333575 non-null float64\n",
      "HR           5203 non-null float64\n",
      "EDA          20849 non-null float64\n",
      "TEMP         20848 non-null float64\n",
      "ACC_x        166788 non-null float64\n",
      "ACC_y        166788 non-null float64\n",
      "ACC_z        166788 non-null float64\n",
      "dtypes: float64(9), object(1)\n",
      "memory usage: 25.5+ MB\n"
     ]
    }
   ],
   "source": [
    "# 6) use the info() function to inspect your data:\n",
    "df.info()"
   ]
  },
  {
   "cell_type": "code",
   "execution_count": 200,
   "metadata": {},
   "outputs": [],
   "source": [
    "# 7) knowing that BVP is collected 64 times per second (i.e., 64Hz),\n",
    "# what can you tell of the sampling frequency of the other measures?\n",
    "\n",
    "# Most of the other measures have similar sampling frequency, such as tags, real time, unix time\n",
    "# The sampling frequency of HR is onece per second\n",
    "# The sampling frequency of ACC_x ACC_y ACC_z is approximately 32 times per second"
   ]
  },
  {
   "cell_type": "markdown",
   "metadata": {},
   "source": [
    "# Plotting"
   ]
  },
  {
   "cell_type": "markdown",
   "metadata": {},
   "source": [
    "Concepts: \n",
    "* plot, subplot, line plots, scatter, box plots, hist, ...\n",
    "* mean, median, quantiles, STD, etc. \n",
    "* separate and summarize"
   ]
  },
  {
   "cell_type": "code",
   "execution_count": 201,
   "metadata": {},
   "outputs": [],
   "source": [
    "# 8) make sure you're plotting your graphs inline\n",
    "# Hint: https://stackoverflow.com/questions/19410042/how-to-make-ipython-notebook-matplotlib-plot-inline\n",
    "import matplotlib.pyplot as plt\n",
    "%matplotlib inline"
   ]
  },
  {
   "cell_type": "markdown",
   "metadata": {},
   "source": [
    "### Let's work on the heart rate (HR) data first"
   ]
  },
  {
   "cell_type": "markdown",
   "metadata": {},
   "source": [
    "In this section we are going to produce various graphs to inspect Bertrand's heart rate data. "
   ]
  },
  {
   "cell_type": "code",
   "execution_count": 202,
   "metadata": {},
   "outputs": [
    {
     "data": {
      "image/png": "[encoded data removed]",
      "text/plain": [
       "<Figure size 432x288 with 1 Axes>"
      ]
     },
     "metadata": {
      "needs_background": "light"
     },
     "output_type": "display_data"
    }
   ],
   "source": [
    "# 9) produce a histogram of the heart rate data; what can you say from it?\n",
    "\n",
    "df['HR'].plot(kind='hist')\n",
    "plt.show()\n",
    "# The histogram is right-skewed. People's heart rate is mostly 80, followed by 90, and so on."
   ]
  },
  {
   "cell_type": "code",
   "execution_count": 203,
   "metadata": {
    "scrolled": true
   },
   "outputs": [
    {
     "data": {
      "text/plain": [
       "[]"
      ]
     },
     "execution_count": 203,
     "metadata": {},
     "output_type": "execute_result"
    },
    {
     "data": {
      "image/png": "[encoded data removed]",
      "text/plain": [
       "<Figure size 432x288 with 1 Axes>"
      ]
     },
     "metadata": {
      "needs_background": "light"
     },
     "output_type": "display_data"
    }
   ],
   "source": [
    "# 10) Try to plot the values over time (e.g., use the real time for the x axis):\n",
    "plt.plot(x=df['real time'], y=df['HR'])"
   ]
  },
  {
   "cell_type": "markdown",
   "metadata": {},
   "source": [
    "11) What happened? Come up with 2-3 reasons why this didn't work before you move on to the next question:\n",
    "- reason 1: real time is Series of string\n",
    "- reason 2: the type of real time is object\n",
    "- reason 3: There are missing values"
   ]
  },
  {
   "cell_type": "markdown",
   "metadata": {},
   "source": [
    "After you've anwered the question above, feel free to look at this hint and try to fix your dataframe: https://stackoverflow.com/questions/22551403/python-pandas-filtering-out-nan-from-a-data-selection-of-a-column-of-strings/22553757"
   ]
  },
  {
   "cell_type": "code",
   "execution_count": 204,
   "metadata": {},
   "outputs": [],
   "source": [
    "# 12) Fix your dataframe using the link above: \n",
    "df = df.dropna()\n"
   ]
  },
  {
   "cell_type": "markdown",
   "metadata": {},
   "source": [
    "### Now let's look at the electrodermal activity data (EDA)"
   ]
  },
  {
   "cell_type": "markdown",
   "metadata": {},
   "source": [
    "In this section we are going to produce various graphs to inspect Bertrand's electrodermal data. "
   ]
  },
  {
   "cell_type": "code",
   "execution_count": 205,
   "metadata": {},
   "outputs": [
    {
     "data": {
      "text/plain": [
       "<matplotlib.axes._subplots.AxesSubplot at 0x12e4b4a20>"
      ]
     },
     "execution_count": 205,
     "metadata": {},
     "output_type": "execute_result"
    },
    {
     "data": {
      "image/png": "[encoded data removed]",
      "text/plain": [
       "<Figure size 432x288 with 1 Axes>"
      ]
     },
     "metadata": {
      "needs_background": "light"
     },
     "output_type": "display_data"
    }
   ],
   "source": [
    "# 13) produce a line plot to visually inspect the EDA data\n",
    "# Hint: make sure you filter the nonnull data\n",
    "df['EDA'].plot()\n"
   ]
  },
  {
   "cell_type": "markdown",
   "metadata": {},
   "source": [
    "Feel free to look at the following page to make sense of the units of the EDA data: \n",
    "* https://support.empatica.com/hc/en-us/articles/203621955-What-should-I-know-to-use-EDA-data-in-my-experiment-"
   ]
  },
  {
   "cell_type": "code",
   "execution_count": 206,
   "metadata": {},
   "outputs": [],
   "source": [
    "# 14) we don't have any labels on the x axis! \n",
    "# convert the 'real time' column into a real date time\n",
    "# Hint: https://campus.datacamp.com/courses/pandas-foundations/time-series-in-pandas?ex=3\n",
    "datetime =  pd.Series(df['real time'])\n",
    "datetime = datetime.astype(str)\n",
    "datetime.head()\n",
    "realtime = pd.to_datetime(datetime, format='%m/%d/%y %H:%M')\n",
    "df['real time'] = realtime"
   ]
  },
  {
   "cell_type": "code",
   "execution_count": 207,
   "metadata": {},
   "outputs": [
    {
     "name": "stdout",
     "output_type": "stream",
     "text": [
      "5.187734843906185\n",
      "5.329635\n"
     ]
    }
   ],
   "source": [
    "# 15) print the mean and median values of the EDA data; explain how they are different\n",
    "print(df['EDA'].mean())\n",
    "print(df['EDA'].median())\n",
    "\n",
    "#the median is larger than the mean, which may imply the data is skewed to the left"
   ]
  },
  {
   "cell_type": "code",
   "execution_count": 208,
   "metadata": {},
   "outputs": [
    {
     "data": {
      "text/plain": [
       "<matplotlib.axes._subplots.AxesSubplot at 0x12e48a7b8>"
      ]
     },
     "execution_count": 208,
     "metadata": {},
     "output_type": "execute_result"
    },
    {
     "data": {
      "image/png": "[encoded data removed]",
      "text/plain": [
       "<Figure size 432x288 with 1 Axes>"
      ]
     },
     "metadata": {
      "needs_background": "light"
     },
     "output_type": "display_data"
    }
   ],
   "source": [
    "# 16) plot a histogram of the EDA values; does that confirm your interpretation above?\n",
    "df['EDA'].hist()\n",
    "#kind of, but in the histogram, the outliers on the left pull mean down."
   ]
  },
  {
   "cell_type": "markdown",
   "metadata": {},
   "source": [
    "### Combining EDA and HR data on the same graph"
   ]
  },
  {
   "cell_type": "markdown",
   "metadata": {},
   "source": [
    "In this section we are going to produce various graphs to inspect both the HR and EDA data."
   ]
  },
  {
   "cell_type": "code",
   "execution_count": 211,
   "metadata": {},
   "outputs": [],
   "source": [
    "# 17) filter both the EDA and HR values to keep the non-null rows:\n",
    "df1 = df.loc[:,['EDA','HR']]"
   ]
  },
  {
   "cell_type": "code",
   "execution_count": 212,
   "metadata": {},
   "outputs": [
    {
     "data": {
      "text/plain": [
       "<matplotlib.axes._subplots.AxesSubplot at 0x12dc6d438>"
      ]
     },
     "execution_count": 212,
     "metadata": {},
     "output_type": "execute_result"
    },
    {
     "data": {
      "image/png": "[encoded data removed]",
      "text/plain": [
       "<Figure size 432x288 with 2 Axes>"
      ]
     },
     "metadata": {
      "needs_background": "light"
     },
     "output_type": "display_data"
    }
   ],
   "source": [
    "# 18) plot EDA and HR on two different graphs using subplots\n",
    "# hint: https://stackoverflow.com/questions/31726643/how-do-i-get-multiple-subplots-in-matplotlib\n",
    "fig, axes=plt.subplots(nrows=2,ncols=1)\n",
    "df1['EDA'].plot(ax=axes[0])\n",
    "df1['HR'].plot(ax=axes[1])"
   ]
  },
  {
   "cell_type": "code",
   "execution_count": 213,
   "metadata": {},
   "outputs": [
    {
     "data": {
      "text/plain": [
       "<matplotlib.axes._subplots.AxesSubplot at 0x13032dc18>"
      ]
     },
     "execution_count": 213,
     "metadata": {},
     "output_type": "execute_result"
    },
    {
     "data": {
      "image/png": "[encoded data removed]",
      "text/plain": [
       "<Figure size 432x288 with 1 Axes>"
      ]
     },
     "metadata": {
      "needs_background": "light"
     },
     "output_type": "display_data"
    }
   ],
   "source": [
    "# 19) plot EDA and HR on the same graph; what went wrong?\n",
    "df1.plot()\n",
    "#the yrange of EDA is too small to be shown"
   ]
  },
  {
   "cell_type": "code",
   "execution_count": 214,
   "metadata": {},
   "outputs": [],
   "source": [
    "# 20) normalize the HR and EDA columns using your favorite normalization strategy\n",
    "# Hint: https://stackoverflow.com/questions/12525722/normalize-data-in-pandas\n",
    "df1 = (df1 - df1.mean())/(df1.max()-df1.min())"
   ]
  },
  {
   "cell_type": "code",
   "execution_count": 215,
   "metadata": {},
   "outputs": [
    {
     "data": {
      "text/plain": [
       "<matplotlib.axes._subplots.AxesSubplot at 0x12d9d5c18>"
      ]
     },
     "execution_count": 215,
     "metadata": {},
     "output_type": "execute_result"
    },
    {
     "data": {
      "image/png": "[encoded data removed]",
      "text/plain": [
       "<Figure size 432x288 with 1 Axes>"
      ]
     },
     "metadata": {
      "needs_background": "light"
     },
     "output_type": "display_data"
    }
   ],
   "source": [
    "# 21) plot EDA and HR on the same graph; does the result look better?\n",
    "df1.plot()\n",
    "#Yes"
   ]
  },
  {
   "cell_type": "code",
   "execution_count": 216,
   "metadata": {},
   "outputs": [],
   "source": [
    "# 22) what can you observe from the graph? Does there seem to be an agreement between HR and EDA?\n",
    "\n",
    "#EDA has more frequenct change than HR\n",
    "#I don't think the there is a strong agreement between HR and EDA"
   ]
  },
  {
   "cell_type": "markdown",
   "metadata": {},
   "source": [
    "**IN-CLASS DISCUSSION**: why do we normalize values? When do we want to normalize them?"
   ]
  },
  {
   "cell_type": "markdown",
   "metadata": {},
   "source": [
    "# Time series"
   ]
  },
  {
   "cell_type": "markdown",
   "metadata": {},
   "source": [
    "Concepts:\n",
    "* indexing, slicing, datetimeIndex\n",
    "* resampling, rolling mean\n",
    "* method chaining and filtering\n",
    "* plotting time series"
   ]
  },
  {
   "cell_type": "markdown",
   "metadata": {},
   "source": [
    "In this section, we are going to work with some built-in function of pandas to work with time series. More specifically, we are going to downsample our data and use a rolling window to generate additional graphs."
   ]
  },
  {
   "cell_type": "code",
   "execution_count": 217,
   "metadata": {},
   "outputs": [
    {
     "data": {
      "text/html": [
       "<div>\n",
       "<style scoped>\n",
       "    .dataframe tbody tr th:only-of-type {\n",
       "        vertical-align: middle;\n",
       "    }\n",
       "\n",
       "    .dataframe tbody tr th {\n",
       "        vertical-align: top;\n",
       "    }\n",
       "\n",
       "    .dataframe thead th {\n",
       "        text-align: right;\n",
       "    }\n",
       "</style>\n",
       "<table border=\"1\" class=\"dataframe\">\n",
       "  <thead>\n",
       "    <tr style=\"text-align: right;\">\n",
       "      <th></th>\n",
       "      <th>tags</th>\n",
       "      <th>unix time</th>\n",
       "      <th>BVP</th>\n",
       "      <th>HR</th>\n",
       "      <th>EDA</th>\n",
       "      <th>TEMP</th>\n",
       "      <th>ACC_x</th>\n",
       "      <th>ACC_y</th>\n",
       "      <th>ACC_z</th>\n",
       "    </tr>\n",
       "    <tr>\n",
       "      <th>real time</th>\n",
       "      <th></th>\n",
       "      <th></th>\n",
       "      <th></th>\n",
       "      <th></th>\n",
       "      <th></th>\n",
       "      <th></th>\n",
       "      <th></th>\n",
       "      <th></th>\n",
       "      <th></th>\n",
       "    </tr>\n",
       "  </thead>\n",
       "  <tbody>\n",
       "    <tr>\n",
       "      <th>2018-11-09 08:28:00</th>\n",
       "      <td>0.0</td>\n",
       "      <td>1.536669e+09</td>\n",
       "      <td>0.00</td>\n",
       "      <td>NaN</td>\n",
       "      <td>0.000000</td>\n",
       "      <td>33.31</td>\n",
       "      <td>-50.0</td>\n",
       "      <td>7.0</td>\n",
       "      <td>28.0</td>\n",
       "    </tr>\n",
       "    <tr>\n",
       "      <th>2018-11-09 08:28:00</th>\n",
       "      <td>0.0</td>\n",
       "      <td>1.536669e+09</td>\n",
       "      <td>-0.05</td>\n",
       "      <td>NaN</td>\n",
       "      <td>0.836457</td>\n",
       "      <td>33.31</td>\n",
       "      <td>-32.0</td>\n",
       "      <td>64.0</td>\n",
       "      <td>27.0</td>\n",
       "    </tr>\n",
       "    <tr>\n",
       "      <th>2018-11-09 08:28:00</th>\n",
       "      <td>0.0</td>\n",
       "      <td>1.536669e+09</td>\n",
       "      <td>6.20</td>\n",
       "      <td>NaN</td>\n",
       "      <td>1.183860</td>\n",
       "      <td>33.31</td>\n",
       "      <td>-14.0</td>\n",
       "      <td>57.0</td>\n",
       "      <td>50.0</td>\n",
       "    </tr>\n",
       "    <tr>\n",
       "      <th>2018-11-09 08:28:00</th>\n",
       "      <td>0.0</td>\n",
       "      <td>1.536669e+09</td>\n",
       "      <td>22.90</td>\n",
       "      <td>NaN</td>\n",
       "      <td>1.167277</td>\n",
       "      <td>33.31</td>\n",
       "      <td>-22.0</td>\n",
       "      <td>52.0</td>\n",
       "      <td>24.0</td>\n",
       "    </tr>\n",
       "    <tr>\n",
       "      <th>2018-11-09 08:28:00</th>\n",
       "      <td>0.0</td>\n",
       "      <td>1.536669e+09</td>\n",
       "      <td>93.76</td>\n",
       "      <td>NaN</td>\n",
       "      <td>1.278719</td>\n",
       "      <td>33.31</td>\n",
       "      <td>-17.0</td>\n",
       "      <td>53.0</td>\n",
       "      <td>27.0</td>\n",
       "    </tr>\n",
       "  </tbody>\n",
       "</table>\n",
       "</div>"
      ],
      "text/plain": [
       "                     tags     unix time    BVP  HR       EDA   TEMP  ACC_x  \\\n",
       "real time                                                                    \n",
       "2018-11-09 08:28:00   0.0  1.536669e+09   0.00 NaN  0.000000  33.31  -50.0   \n",
       "2018-11-09 08:28:00   0.0  1.536669e+09  -0.05 NaN  0.836457  33.31  -32.0   \n",
       "2018-11-09 08:28:00   0.0  1.536669e+09   6.20 NaN  1.183860  33.31  -14.0   \n",
       "2018-11-09 08:28:00   0.0  1.536669e+09  22.90 NaN  1.167277  33.31  -22.0   \n",
       "2018-11-09 08:28:00   0.0  1.536669e+09  93.76 NaN  1.278719  33.31  -17.0   \n",
       "\n",
       "                     ACC_y  ACC_z  \n",
       "real time                          \n",
       "2018-11-09 08:28:00    7.0   28.0  \n",
       "2018-11-09 08:28:00   64.0   27.0  \n",
       "2018-11-09 08:28:00   57.0   50.0  \n",
       "2018-11-09 08:28:00   52.0   24.0  \n",
       "2018-11-09 08:28:00   53.0   27.0  "
      ]
     },
     "execution_count": 217,
     "metadata": {},
     "output_type": "execute_result"
    }
   ],
   "source": [
    "# let's reimport our data to make sure it's clean\n",
    "df = pd.read_csv('Bertrand-physiodata.csv')\n",
    "filtered_df = df[df['EDA'].notnull() & df['EDA'].notnull()].copy()\n",
    "\n",
    "# make sure that you are converting the real time column into a datetime\n",
    "filtered_df['real time'] = pd.to_datetime(filtered_df['real time'], format='%d/%m/%y %H:%M')\n",
    "filtered_df = filtered_df.set_index('real time')\n",
    "\n",
    "filtered_df.head()"
   ]
  },
  {
   "cell_type": "markdown",
   "metadata": {},
   "source": [
    "### Down sampling"
   ]
  },
  {
   "cell_type": "code",
   "execution_count": 245,
   "metadata": {},
   "outputs": [
    {
     "data": {
      "text/plain": [
       "<matplotlib.axes._subplots.AxesSubplot at 0x142d9bb00>"
      ]
     },
     "execution_count": 245,
     "metadata": {},
     "output_type": "execute_result"
    },
    {
     "data": {
      "image/png": "[encoded data removed]",
      "text/plain": [
       "<Figure size 432x288 with 1 Axes>"
      ]
     },
     "metadata": {
      "needs_background": "light"
     },
     "output_type": "display_data"
    }
   ],
   "source": [
    "# 23) Use the instruction from datacamp to resample your data in 60 seconds windows and plot the result\n",
    "# Hint: https://campus.datacamp.com/courses/pandas-foundations/time-series-in-pandas?ex=7\n",
    "df2 = filtered_df['EDA'].resample('min').mean()\n",
    "df2.plot()"
   ]
  },
  {
   "cell_type": "code",
   "execution_count": 251,
   "metadata": {},
   "outputs": [
    {
     "data": {
      "text/plain": [
       "<matplotlib.axes._subplots.AxesSubplot at 0x143439dd8>"
      ]
     },
     "execution_count": 251,
     "metadata": {},
     "output_type": "execute_result"
    },
    {
     "data": {
      "image/png": "[encoded data removed]",
      "text/plain": [
       "<Figure size 432x288 with 1 Axes>"
      ]
     },
     "metadata": {
      "needs_background": "light"
     },
     "output_type": "display_data"
    }
   ],
   "source": [
    "# 24) do the same thing, but this time using the rolling() function in a 60sec window\n",
    "df2 = filtered_df['EDA'].rolling(window=60).mean()\n",
    "df2.plot()"
   ]
  },
  {
   "cell_type": "code",
   "execution_count": null,
   "metadata": {},
   "outputs": [],
   "source": [
    "# 25) What is the difference between rolling() and resample()? Why do the graphs look different?\n",
    "#rolling() is supposed to highlight long-term trends. In this case, I am not sure whether I correctly set the window=60 arguement"
   ]
  },
  {
   "cell_type": "markdown",
   "metadata": {},
   "source": [
    "## Correlations"
   ]
  },
  {
   "cell_type": "markdown",
   "metadata": {},
   "source": [
    "In this section we're going to keep exploring the relationship between heart rate data and electrodermal activity. We are going to do this visually (with a scatter plot first) and then using a statistical test (Pearson's correlation). "
   ]
  },
  {
   "cell_type": "code",
   "execution_count": 252,
   "metadata": {},
   "outputs": [
    {
     "data": {
      "text/plain": [
       "<matplotlib.collections.PathCollection at 0x144066a90>"
      ]
     },
     "execution_count": 252,
     "metadata": {},
     "output_type": "execute_result"
    },
    {
     "data": {
      "image/png": "[encoded data removed]",
      "text/plain": [
       "<Figure size 432x288 with 1 Axes>"
      ]
     },
     "metadata": {
      "needs_background": "light"
     },
     "output_type": "display_data"
    }
   ],
   "source": [
    "# 26) create a scatter plot between HR and EDA:\n",
    "plt.scatter(x=filtered_df['HR'],y=filtered_df['EDA'])"
   ]
  },
  {
   "cell_type": "code",
   "execution_count": 263,
   "metadata": {},
   "outputs": [
    {
     "data": {
      "text/html": [
       "<div>\n",
       "<style scoped>\n",
       "    .dataframe tbody tr th:only-of-type {\n",
       "        vertical-align: middle;\n",
       "    }\n",
       "\n",
       "    .dataframe tbody tr th {\n",
       "        vertical-align: top;\n",
       "    }\n",
       "\n",
       "    .dataframe thead th {\n",
       "        text-align: right;\n",
       "    }\n",
       "</style>\n",
       "<table border=\"1\" class=\"dataframe\">\n",
       "  <thead>\n",
       "    <tr style=\"text-align: right;\">\n",
       "      <th></th>\n",
       "      <th>HR</th>\n",
       "      <th>EDA</th>\n",
       "    </tr>\n",
       "  </thead>\n",
       "  <tbody>\n",
       "    <tr>\n",
       "      <th>HR</th>\n",
       "      <td>1.000000</td>\n",
       "      <td>-0.138619</td>\n",
       "    </tr>\n",
       "    <tr>\n",
       "      <th>EDA</th>\n",
       "      <td>-0.138619</td>\n",
       "      <td>1.000000</td>\n",
       "    </tr>\n",
       "  </tbody>\n",
       "</table>\n",
       "</div>"
      ],
      "text/plain": [
       "           HR       EDA\n",
       "HR   1.000000 -0.138619\n",
       "EDA -0.138619  1.000000"
      ]
     },
     "execution_count": 263,
     "metadata": {},
     "output_type": "execute_result"
    }
   ],
   "source": [
    "# 27) compute pearson's correlation between the HR and EDA data\n",
    "df3=filtered_df.loc[:,['HR','EDA']]\n",
    "df3.corr(method='pearson')"
   ]
  },
  {
   "cell_type": "code",
   "execution_count": 24,
   "metadata": {},
   "outputs": [],
   "source": [
    "# 29) what can you conclude? Is there a linear relationship between HR and EDA data in this dataset?\n",
    "#The correlation of HR and EDA is -0.14. There is a negative small correlation between HR and EDA.\n",
    "#We do not konw whether there is a linear relationship based on the correlation."
   ]
  },
  {
   "cell_type": "code",
   "execution_count": null,
   "metadata": {},
   "outputs": [],
   "source": []
  }
 ],
 "metadata": {
  "kernelspec": {
   "display_name": "Python 3",
   "language": "python",
   "name": "python3"
  },
  "language_info": {
   "codemirror_mode": {
    "name": "ipython",
    "version": 3
   },
   "file_extension": ".py",
   "mimetype": "text/x-python",
   "name": "python",
   "nbconvert_exporter": "python",
   "pygments_lexer": "ipython3",
   "version": "3.7.1"
  },
  "toc": {
   "base_numbering": 1,
   "nav_menu": {},
   "number_sections": true,
   "sideBar": true,
   "skip_h1_title": false,
   "title_cell": "Table of Contents",
   "title_sidebar": "Contents",
   "toc_cell": false,
   "toc_position": {},
   "toc_section_display": true,
   "toc_window_display": false
  },
  "varInspector": {
   "cols": {
    "lenName": 16,
    "lenType": 16,
    "lenVar": 40
   },
   "kernels_config": {
    "python": {
     "delete_cmd_postfix": "",
     "delete_cmd_prefix": "del ",
     "library": "var_list.py",
     "varRefreshCmd": "print(var_dic_list())"
    },
    "r": {
     "delete_cmd_postfix": ") ",
     "delete_cmd_prefix": "rm(",
     "library": "var_list.r",
     "varRefreshCmd": "cat(var_dic_list()) "
    }
   },
   "types_to_exclude": [
    "module",
    "function",
    "builtin_function_or_method",
    "instance",
    "_Feature"
   ],
   "window_display": false
  }
 },
 "nbformat": 4,
 "nbformat_minor": 2
}
